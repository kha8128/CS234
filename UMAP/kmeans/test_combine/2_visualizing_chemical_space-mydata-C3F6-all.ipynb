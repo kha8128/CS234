{
 "cells": [
  {
   "cell_type": "markdown",
   "metadata": {},
   "source": [
    "In this notebook, we will look at a few different ways of visualizing the chemical space covered by a set of molecules. We will cover principal component anlaysis (PCA) and t-distributed stochastic neighbor embedding (t-sne)"
   ]
  },
  {
   "cell_type": "markdown",
   "metadata": {},
   "source": [
    "We will start by importing a the necessary Python libraries"
   ]
  },
  {
   "cell_type": "code",
   "execution_count": 1,
   "metadata": {},
   "outputs": [],
   "source": [
    "import pandas as pd\n",
    "from rdkit import Chem, DataStructs\n",
    "from rdkit.Chem import AllChem\n",
    "import numpy as np\n",
    "from tqdm import tqdm\n",
    "import seaborn as sns\n",
    "import matplotlib.pyplot as plt"
   ]
  },
  {
   "cell_type": "markdown",
   "metadata": {},
   "source": [
    "We set a few parameters to improve the appearance of our plots"
   ]
  },
  {
   "cell_type": "code",
   "execution_count": 2,
   "metadata": {},
   "outputs": [],
   "source": [
    "sns.set(rc={'figure.figsize': (10, 10)})\n",
    "sns.set(font_scale=1.5)\n",
    "sns.set_style('whitegrid')"
   ]
  },
  {
   "cell_type": "markdown",
   "metadata": {},
   "source": [
    "Read the input data.  This is a set of ERK2 inhibitors, and associated decoy molecules, from the DUD-E database. "
   ]
  },
  {
   "cell_type": "code",
   "execution_count": 3,
   "metadata": {},
   "outputs": [],
   "source": [
    "df = pd.read_csv(\"~/Desktop/pfas_machine_learning/supporting_info_oecd/supporting_4.csv\")"
   ]
  },
  {
   "cell_type": "markdown",
   "metadata": {},
   "source": [
    "Take a look at how many rows and columns we have in the data"
   ]
  },
  {
   "cell_type": "code",
   "execution_count": 4,
   "metadata": {},
   "outputs": [
    {
     "data": {
      "text/plain": [
       "(1012, 27)"
      ]
     },
     "execution_count": 4,
     "metadata": {},
     "output_type": "execute_result"
    }
   ],
   "source": [
    "df.shape"
   ]
  },
  {
   "cell_type": "markdown",
   "metadata": {},
   "source": [
    "Look at the first few lines in the dataframe."
   ]
  },
  {
   "cell_type": "code",
   "execution_count": 5,
   "metadata": {},
   "outputs": [
    {
     "data": {
      "text/html": [
       "<div>\n",
       "<style scoped>\n",
       "    .dataframe tbody tr th:only-of-type {\n",
       "        vertical-align: middle;\n",
       "    }\n",
       "\n",
       "    .dataframe tbody tr th {\n",
       "        vertical-align: top;\n",
       "    }\n",
       "\n",
       "    .dataframe thead th {\n",
       "        text-align: right;\n",
       "    }\n",
       "</style>\n",
       "<table border=\"1\" class=\"dataframe\">\n",
       "  <thead>\n",
       "    <tr style=\"text-align: right;\">\n",
       "      <th></th>\n",
       "      <th>PCBA1030</th>\n",
       "      <th>PCBA1461</th>\n",
       "      <th>PCBA1468</th>\n",
       "      <th>PCBA1688</th>\n",
       "      <th>PCBA2546</th>\n",
       "      <th>PCBA2551</th>\n",
       "      <th>PCBA504332</th>\n",
       "      <th>PCBA504339</th>\n",
       "      <th>PCBA504444</th>\n",
       "      <th>PCBA504467</th>\n",
       "      <th>...</th>\n",
       "      <th>PCBA686978</th>\n",
       "      <th>PCBA686979</th>\n",
       "      <th>PCBA720504</th>\n",
       "      <th>PCBA720579</th>\n",
       "      <th>PCBA720580</th>\n",
       "      <th>PCBA883</th>\n",
       "      <th>PCBA884</th>\n",
       "      <th>PCBA891</th>\n",
       "      <th>PCBA938</th>\n",
       "      <th>SMILES</th>\n",
       "    </tr>\n",
       "  </thead>\n",
       "  <tbody>\n",
       "    <tr>\n",
       "      <th>0</th>\n",
       "      <td>0.0</td>\n",
       "      <td>0.0</td>\n",
       "      <td>0.0</td>\n",
       "      <td>0.0</td>\n",
       "      <td>0.0</td>\n",
       "      <td>0.0</td>\n",
       "      <td>0.0</td>\n",
       "      <td>0.0</td>\n",
       "      <td>0.0</td>\n",
       "      <td>0.0</td>\n",
       "      <td>...</td>\n",
       "      <td>0.0</td>\n",
       "      <td>0.0</td>\n",
       "      <td>0.0</td>\n",
       "      <td>0.0</td>\n",
       "      <td>0.0</td>\n",
       "      <td>NaN</td>\n",
       "      <td>NaN</td>\n",
       "      <td>NaN</td>\n",
       "      <td>NaN</td>\n",
       "      <td>O=C(NC(Nc1ccc(F)cc1)(C(F)(F)F)C(F)(F)F)c1cccnc1</td>\n",
       "    </tr>\n",
       "    <tr>\n",
       "      <th>1</th>\n",
       "      <td>0.0</td>\n",
       "      <td>NaN</td>\n",
       "      <td>NaN</td>\n",
       "      <td>NaN</td>\n",
       "      <td>0.0</td>\n",
       "      <td>0.0</td>\n",
       "      <td>NaN</td>\n",
       "      <td>NaN</td>\n",
       "      <td>NaN</td>\n",
       "      <td>NaN</td>\n",
       "      <td>...</td>\n",
       "      <td>NaN</td>\n",
       "      <td>NaN</td>\n",
       "      <td>NaN</td>\n",
       "      <td>NaN</td>\n",
       "      <td>NaN</td>\n",
       "      <td>NaN</td>\n",
       "      <td>NaN</td>\n",
       "      <td>NaN</td>\n",
       "      <td>NaN</td>\n",
       "      <td>CCC1CN2CCC1CC2[C@@H](NC(=S)Nc1cc(C(F)(F)F)cc(C...</td>\n",
       "    </tr>\n",
       "    <tr>\n",
       "      <th>2</th>\n",
       "      <td>0.0</td>\n",
       "      <td>0.0</td>\n",
       "      <td>0.0</td>\n",
       "      <td>0.0</td>\n",
       "      <td>0.0</td>\n",
       "      <td>0.0</td>\n",
       "      <td>0.0</td>\n",
       "      <td>0.0</td>\n",
       "      <td>NaN</td>\n",
       "      <td>0.0</td>\n",
       "      <td>...</td>\n",
       "      <td>0.0</td>\n",
       "      <td>0.0</td>\n",
       "      <td>0.0</td>\n",
       "      <td>0.0</td>\n",
       "      <td>0.0</td>\n",
       "      <td>NaN</td>\n",
       "      <td>NaN</td>\n",
       "      <td>NaN</td>\n",
       "      <td>NaN</td>\n",
       "      <td>CC(NC(=O)NNC(=O)c1ccncc1)(C(F)(F)F)C(F)(F)F</td>\n",
       "    </tr>\n",
       "    <tr>\n",
       "      <th>3</th>\n",
       "      <td>0.0</td>\n",
       "      <td>0.0</td>\n",
       "      <td>NaN</td>\n",
       "      <td>0.0</td>\n",
       "      <td>0.0</td>\n",
       "      <td>0.0</td>\n",
       "      <td>0.0</td>\n",
       "      <td>0.0</td>\n",
       "      <td>0.0</td>\n",
       "      <td>0.0</td>\n",
       "      <td>...</td>\n",
       "      <td>0.0</td>\n",
       "      <td>0.0</td>\n",
       "      <td>0.0</td>\n",
       "      <td>0.0</td>\n",
       "      <td>0.0</td>\n",
       "      <td>NaN</td>\n",
       "      <td>NaN</td>\n",
       "      <td>NaN</td>\n",
       "      <td>NaN</td>\n",
       "      <td>CCC(NC(=O)NCc1ccccc1)(C(F)(F)F)C(F)(F)F</td>\n",
       "    </tr>\n",
       "    <tr>\n",
       "      <th>4</th>\n",
       "      <td>NaN</td>\n",
       "      <td>NaN</td>\n",
       "      <td>NaN</td>\n",
       "      <td>NaN</td>\n",
       "      <td>NaN</td>\n",
       "      <td>NaN</td>\n",
       "      <td>NaN</td>\n",
       "      <td>NaN</td>\n",
       "      <td>NaN</td>\n",
       "      <td>NaN</td>\n",
       "      <td>...</td>\n",
       "      <td>1.0</td>\n",
       "      <td>NaN</td>\n",
       "      <td>0.0</td>\n",
       "      <td>0.0</td>\n",
       "      <td>0.0</td>\n",
       "      <td>NaN</td>\n",
       "      <td>NaN</td>\n",
       "      <td>NaN</td>\n",
       "      <td>NaN</td>\n",
       "      <td>OC(c1ccccc1)(c1nc(/C=C/c2ccc(C(F)(F)F)cc2)cs1)...</td>\n",
       "    </tr>\n",
       "  </tbody>\n",
       "</table>\n",
       "<p>5 rows × 27 columns</p>\n",
       "</div>"
      ],
      "text/plain": [
       "   PCBA1030  PCBA1461  PCBA1468  PCBA1688  PCBA2546  PCBA2551  PCBA504332  \\\n",
       "0       0.0       0.0       0.0       0.0       0.0       0.0         0.0   \n",
       "1       0.0       NaN       NaN       NaN       0.0       0.0         NaN   \n",
       "2       0.0       0.0       0.0       0.0       0.0       0.0         0.0   \n",
       "3       0.0       0.0       NaN       0.0       0.0       0.0         0.0   \n",
       "4       NaN       NaN       NaN       NaN       NaN       NaN         NaN   \n",
       "\n",
       "   PCBA504339  PCBA504444  PCBA504467  ...  PCBA686978  PCBA686979  \\\n",
       "0         0.0         0.0         0.0  ...         0.0         0.0   \n",
       "1         NaN         NaN         NaN  ...         NaN         NaN   \n",
       "2         0.0         NaN         0.0  ...         0.0         0.0   \n",
       "3         0.0         0.0         0.0  ...         0.0         0.0   \n",
       "4         NaN         NaN         NaN  ...         1.0         NaN   \n",
       "\n",
       "   PCBA720504  PCBA720579  PCBA720580  PCBA883  PCBA884  PCBA891  PCBA938  \\\n",
       "0         0.0         0.0         0.0      NaN      NaN      NaN      NaN   \n",
       "1         NaN         NaN         NaN      NaN      NaN      NaN      NaN   \n",
       "2         0.0         0.0         0.0      NaN      NaN      NaN      NaN   \n",
       "3         0.0         0.0         0.0      NaN      NaN      NaN      NaN   \n",
       "4         0.0         0.0         0.0      NaN      NaN      NaN      NaN   \n",
       "\n",
       "                                              SMILES  \n",
       "0    O=C(NC(Nc1ccc(F)cc1)(C(F)(F)F)C(F)(F)F)c1cccnc1  \n",
       "1  CCC1CN2CCC1CC2[C@@H](NC(=S)Nc1cc(C(F)(F)F)cc(C...  \n",
       "2        CC(NC(=O)NNC(=O)c1ccncc1)(C(F)(F)F)C(F)(F)F  \n",
       "3            CCC(NC(=O)NCc1ccccc1)(C(F)(F)F)C(F)(F)F  \n",
       "4  OC(c1ccccc1)(c1nc(/C=C/c2ccc(C(F)(F)F)cc2)cs1)...  \n",
       "\n",
       "[5 rows x 27 columns]"
      ]
     },
     "execution_count": 5,
     "metadata": {},
     "output_type": "execute_result"
    }
   ],
   "source": [
    "df.head()"
   ]
  },
  {
   "cell_type": "code",
   "execution_count": 6,
   "metadata": {
    "scrolled": true
   },
   "outputs": [],
   "source": [
    "from rdkit.Chem import PandasTools\n",
    "PandasTools.AddMoleculeColumnToFrame(df,'SMILES','Mol')"
   ]
  },
  {
   "cell_type": "code",
   "execution_count": 7,
   "metadata": {},
   "outputs": [
    {
     "data": {
      "text/html": [
       "<div>\n",
       "<style scoped>\n",
       "    .dataframe tbody tr th:only-of-type {\n",
       "        vertical-align: middle;\n",
       "    }\n",
       "\n",
       "    .dataframe tbody tr th {\n",
       "        vertical-align: top;\n",
       "    }\n",
       "\n",
       "    .dataframe thead th {\n",
       "        text-align: right;\n",
       "    }\n",
       "</style>\n",
       "<table border=\"1\" class=\"dataframe\">\n",
       "  <thead>\n",
       "    <tr style=\"text-align: right;\">\n",
       "      <th></th>\n",
       "      <th>PCBA1030</th>\n",
       "      <th>PCBA1461</th>\n",
       "      <th>PCBA1468</th>\n",
       "      <th>PCBA1688</th>\n",
       "      <th>PCBA2546</th>\n",
       "      <th>PCBA2551</th>\n",
       "      <th>PCBA504332</th>\n",
       "      <th>PCBA504339</th>\n",
       "      <th>PCBA504444</th>\n",
       "      <th>PCBA504467</th>\n",
       "      <th>...</th>\n",
       "      <th>PCBA686979</th>\n",
       "      <th>PCBA720504</th>\n",
       "      <th>PCBA720579</th>\n",
       "      <th>PCBA720580</th>\n",
       "      <th>PCBA883</th>\n",
       "      <th>PCBA884</th>\n",
       "      <th>PCBA891</th>\n",
       "      <th>PCBA938</th>\n",
       "      <th>SMILES</th>\n",
       "      <th>Mol</th>\n",
       "    </tr>\n",
       "  </thead>\n",
       "  <tbody>\n",
       "    <tr>\n",
       "      <th>0</th>\n",
       "      <td>0.0</td>\n",
       "      <td>0.0</td>\n",
       "      <td>0.0</td>\n",
       "      <td>0.0</td>\n",
       "      <td>0.0</td>\n",
       "      <td>0.0</td>\n",
       "      <td>0.0</td>\n",
       "      <td>0.0</td>\n",
       "      <td>0.0</td>\n",
       "      <td>0.0</td>\n",
       "      <td>...</td>\n",
       "      <td>0.0</td>\n",
       "      <td>0.0</td>\n",
       "      <td>0.0</td>\n",
       "      <td>0.0</td>\n",
       "      <td>NaN</td>\n",
       "      <td>NaN</td>\n",
       "      <td>NaN</td>\n",
       "      <td>NaN</td>\n",
       "      <td>O=C(NC(Nc1ccc(F)cc1)(C(F)(F)F)C(F)(F)F)c1cccnc1</td>\n",
       "      <td><img data-content=\"rdkit/molecule\" src=\"data:image/png;base64,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\" alt=\"Mol\"/></td>\n",
       "    </tr>\n",
       "    <tr>\n",
       "      <th>1</th>\n",
       "      <td>0.0</td>\n",
       "      <td>NaN</td>\n",
       "      <td>NaN</td>\n",
       "      <td>NaN</td>\n",
       "      <td>0.0</td>\n",
       "      <td>0.0</td>\n",
       "      <td>NaN</td>\n",
       "      <td>NaN</td>\n",
       "      <td>NaN</td>\n",
       "      <td>NaN</td>\n",
       "      <td>...</td>\n",
       "      <td>NaN</td>\n",
       "      <td>NaN</td>\n",
       "      <td>NaN</td>\n",
       "      <td>NaN</td>\n",
       "      <td>NaN</td>\n",
       "      <td>NaN</td>\n",
       "      <td>NaN</td>\n",
       "      <td>NaN</td>\n",
       "      <td>CCC1CN2CCC1CC2[C@@H](NC(=S)Nc1cc(C(F)(F)F)cc(C...</td>\n",
       "      <td><img data-content=\"rdkit/molecule\" src=\"data:image/png;base64,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\" alt=\"Mol\"/></td>\n",
       "    </tr>\n",
       "    <tr>\n",
       "      <th>2</th>\n",
       "      <td>0.0</td>\n",
       "      <td>0.0</td>\n",
       "      <td>0.0</td>\n",
       "      <td>0.0</td>\n",
       "      <td>0.0</td>\n",
       "      <td>0.0</td>\n",
       "      <td>0.0</td>\n",
       "      <td>0.0</td>\n",
       "      <td>NaN</td>\n",
       "      <td>0.0</td>\n",
       "      <td>...</td>\n",
       "      <td>0.0</td>\n",
       "      <td>0.0</td>\n",
       "      <td>0.0</td>\n",
       "      <td>0.0</td>\n",
       "      <td>NaN</td>\n",
       "      <td>NaN</td>\n",
       "      <td>NaN</td>\n",
       "      <td>NaN</td>\n",
       "      <td>CC(NC(=O)NNC(=O)c1ccncc1)(C(F)(F)F)C(F)(F)F</td>\n",
       "      <td><img data-content=\"rdkit/molecule\" src=\"data:image/png;base64,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\" alt=\"Mol\"/></td>\n",
       "    </tr>\n",
       "    <tr>\n",
       "      <th>3</th>\n",
       "      <td>0.0</td>\n",
       "      <td>0.0</td>\n",
       "      <td>NaN</td>\n",
       "      <td>0.0</td>\n",
       "      <td>0.0</td>\n",
       "      <td>0.0</td>\n",
       "      <td>0.0</td>\n",
       "      <td>0.0</td>\n",
       "      <td>0.0</td>\n",
       "      <td>0.0</td>\n",
       "      <td>...</td>\n",
       "      <td>0.0</td>\n",
       "      <td>0.0</td>\n",
       "      <td>0.0</td>\n",
       "      <td>0.0</td>\n",
       "      <td>NaN</td>\n",
       "      <td>NaN</td>\n",
       "      <td>NaN</td>\n",
       "      <td>NaN</td>\n",
       "      <td>CCC(NC(=O)NCc1ccccc1)(C(F)(F)F)C(F)(F)F</td>\n",
       "      <td><img data-content=\"rdkit/molecule\" src=\"data:image/png;base64,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\" alt=\"Mol\"/></td>\n",
       "    </tr>\n",
       "    <tr>\n",
       "      <th>4</th>\n",
       "      <td>NaN</td>\n",
       "      <td>NaN</td>\n",
       "      <td>NaN</td>\n",
       "      <td>NaN</td>\n",
       "      <td>NaN</td>\n",
       "      <td>NaN</td>\n",
       "      <td>NaN</td>\n",
       "      <td>NaN</td>\n",
       "      <td>NaN</td>\n",
       "      <td>NaN</td>\n",
       "      <td>...</td>\n",
       "      <td>NaN</td>\n",
       "      <td>0.0</td>\n",
       "      <td>0.0</td>\n",
       "      <td>0.0</td>\n",
       "      <td>NaN</td>\n",
       "      <td>NaN</td>\n",
       "      <td>NaN</td>\n",
       "      <td>NaN</td>\n",
       "      <td>OC(c1ccccc1)(c1nc(/C=C/c2ccc(C(F)(F)F)cc2)cs1)...</td>\n",
       "      <td><img data-content=\"rdkit/molecule\" src=\"data:image/png;base64,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\" alt=\"Mol\"/></td>\n",
       "    </tr>\n",
       "    <tr>\n",
       "      <th>...</th>\n",
       "      <td>...</td>\n",
       "      <td>...</td>\n",
       "      <td>...</td>\n",
       "      <td>...</td>\n",
       "      <td>...</td>\n",
       "      <td>...</td>\n",
       "      <td>...</td>\n",
       "      <td>...</td>\n",
       "      <td>...</td>\n",
       "      <td>...</td>\n",
       "      <td>...</td>\n",
       "      <td>...</td>\n",
       "      <td>...</td>\n",
       "      <td>...</td>\n",
       "      <td>...</td>\n",
       "      <td>...</td>\n",
       "      <td>...</td>\n",
       "      <td>...</td>\n",
       "      <td>...</td>\n",
       "      <td>...</td>\n",
       "      <td>...</td>\n",
       "    </tr>\n",
       "    <tr>\n",
       "      <th>1007</th>\n",
       "      <td>0.0</td>\n",
       "      <td>0.0</td>\n",
       "      <td>NaN</td>\n",
       "      <td>0.0</td>\n",
       "      <td>0.0</td>\n",
       "      <td>NaN</td>\n",
       "      <td>0.0</td>\n",
       "      <td>0.0</td>\n",
       "      <td>0.0</td>\n",
       "      <td>0.0</td>\n",
       "      <td>...</td>\n",
       "      <td>0.0</td>\n",
       "      <td>0.0</td>\n",
       "      <td>NaN</td>\n",
       "      <td>NaN</td>\n",
       "      <td>NaN</td>\n",
       "      <td>NaN</td>\n",
       "      <td>NaN</td>\n",
       "      <td>NaN</td>\n",
       "      <td>O=C(NCCNC(=O)c1cc(OCC(F)(F)F)ccc1OCC(F)(F)F)Nc...</td>\n",
       "      <td><img data-content=\"rdkit/molecule\" src=\"data:image/png;base64,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\" alt=\"Mol\"/></td>\n",
       "    </tr>\n",
       "    <tr>\n",
       "      <th>1008</th>\n",
       "      <td>NaN</td>\n",
       "      <td>NaN</td>\n",
       "      <td>NaN</td>\n",
       "      <td>NaN</td>\n",
       "      <td>NaN</td>\n",
       "      <td>NaN</td>\n",
       "      <td>NaN</td>\n",
       "      <td>NaN</td>\n",
       "      <td>NaN</td>\n",
       "      <td>0.0</td>\n",
       "      <td>...</td>\n",
       "      <td>NaN</td>\n",
       "      <td>NaN</td>\n",
       "      <td>NaN</td>\n",
       "      <td>NaN</td>\n",
       "      <td>NaN</td>\n",
       "      <td>NaN</td>\n",
       "      <td>NaN</td>\n",
       "      <td>NaN</td>\n",
       "      <td>O=C(NCc1cc(C(F)(F)F)ccc1Cl)c1cccc2c1C(=O)c1ccc...</td>\n",
       "      <td><img data-content=\"rdkit/molecule\" src=\"data:image/png;base64,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\" alt=\"Mol\"/></td>\n",
       "    </tr>\n",
       "    <tr>\n",
       "      <th>1009</th>\n",
       "      <td>0.0</td>\n",
       "      <td>0.0</td>\n",
       "      <td>0.0</td>\n",
       "      <td>0.0</td>\n",
       "      <td>0.0</td>\n",
       "      <td>0.0</td>\n",
       "      <td>0.0</td>\n",
       "      <td>0.0</td>\n",
       "      <td>0.0</td>\n",
       "      <td>0.0</td>\n",
       "      <td>...</td>\n",
       "      <td>0.0</td>\n",
       "      <td>0.0</td>\n",
       "      <td>0.0</td>\n",
       "      <td>0.0</td>\n",
       "      <td>NaN</td>\n",
       "      <td>NaN</td>\n",
       "      <td>NaN</td>\n",
       "      <td>NaN</td>\n",
       "      <td>CCCNc1nc(OCC(F)(F)F)nc(OCC(F)(F)F)n1</td>\n",
       "      <td><img data-content=\"rdkit/molecule\" src=\"data:image/png;base64,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\" alt=\"Mol\"/></td>\n",
       "    </tr>\n",
       "    <tr>\n",
       "      <th>1010</th>\n",
       "      <td>0.0</td>\n",
       "      <td>0.0</td>\n",
       "      <td>0.0</td>\n",
       "      <td>0.0</td>\n",
       "      <td>0.0</td>\n",
       "      <td>NaN</td>\n",
       "      <td>NaN</td>\n",
       "      <td>0.0</td>\n",
       "      <td>0.0</td>\n",
       "      <td>0.0</td>\n",
       "      <td>...</td>\n",
       "      <td>NaN</td>\n",
       "      <td>0.0</td>\n",
       "      <td>NaN</td>\n",
       "      <td>NaN</td>\n",
       "      <td>NaN</td>\n",
       "      <td>NaN</td>\n",
       "      <td>NaN</td>\n",
       "      <td>NaN</td>\n",
       "      <td>O=C(Cn1nnc(-c2cccc(C(F)(F)F)c2)n1)NNS(=O)(=O)c...</td>\n",
       "      <td><img data-content=\"rdkit/molecule\" src=\"data:image/png;base64,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\" alt=\"Mol\"/></td>\n",
       "    </tr>\n",
       "    <tr>\n",
       "      <th>1011</th>\n",
       "      <td>0.0</td>\n",
       "      <td>NaN</td>\n",
       "      <td>NaN</td>\n",
       "      <td>NaN</td>\n",
       "      <td>0.0</td>\n",
       "      <td>0.0</td>\n",
       "      <td>0.0</td>\n",
       "      <td>NaN</td>\n",
       "      <td>NaN</td>\n",
       "      <td>NaN</td>\n",
       "      <td>...</td>\n",
       "      <td>NaN</td>\n",
       "      <td>NaN</td>\n",
       "      <td>NaN</td>\n",
       "      <td>NaN</td>\n",
       "      <td>1.0</td>\n",
       "      <td>0.0</td>\n",
       "      <td>0.0</td>\n",
       "      <td>NaN</td>\n",
       "      <td>O=C(c1cc(C(F)(F)F)cc(C(F)(F)F)c1)N1CCC2(CC1)CN...</td>\n",
       "      <td><img data-content=\"rdkit/molecule\" src=\"data:image/png;base64,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\" alt=\"Mol\"/></td>\n",
       "    </tr>\n",
       "  </tbody>\n",
       "</table>\n",
       "<p>1012 rows × 28 columns</p>\n",
       "</div>"
      ],
      "text/plain": [
       "      PCBA1030  PCBA1461  PCBA1468  PCBA1688  PCBA2546  PCBA2551  PCBA504332  \\\n",
       "0          0.0       0.0       0.0       0.0       0.0       0.0         0.0   \n",
       "1          0.0       NaN       NaN       NaN       0.0       0.0         NaN   \n",
       "2          0.0       0.0       0.0       0.0       0.0       0.0         0.0   \n",
       "3          0.0       0.0       NaN       0.0       0.0       0.0         0.0   \n",
       "4          NaN       NaN       NaN       NaN       NaN       NaN         NaN   \n",
       "...        ...       ...       ...       ...       ...       ...         ...   \n",
       "1007       0.0       0.0       NaN       0.0       0.0       NaN         0.0   \n",
       "1008       NaN       NaN       NaN       NaN       NaN       NaN         NaN   \n",
       "1009       0.0       0.0       0.0       0.0       0.0       0.0         0.0   \n",
       "1010       0.0       0.0       0.0       0.0       0.0       NaN         NaN   \n",
       "1011       0.0       NaN       NaN       NaN       0.0       0.0         0.0   \n",
       "\n",
       "      PCBA504339  PCBA504444  PCBA504467  ...  PCBA686979  PCBA720504  \\\n",
       "0            0.0         0.0         0.0  ...         0.0         0.0   \n",
       "1            NaN         NaN         NaN  ...         NaN         NaN   \n",
       "2            0.0         NaN         0.0  ...         0.0         0.0   \n",
       "3            0.0         0.0         0.0  ...         0.0         0.0   \n",
       "4            NaN         NaN         NaN  ...         NaN         0.0   \n",
       "...          ...         ...         ...  ...         ...         ...   \n",
       "1007         0.0         0.0         0.0  ...         0.0         0.0   \n",
       "1008         NaN         NaN         0.0  ...         NaN         NaN   \n",
       "1009         0.0         0.0         0.0  ...         0.0         0.0   \n",
       "1010         0.0         0.0         0.0  ...         NaN         0.0   \n",
       "1011         NaN         NaN         NaN  ...         NaN         NaN   \n",
       "\n",
       "      PCBA720579  PCBA720580  PCBA883  PCBA884  PCBA891  PCBA938  \\\n",
       "0            0.0         0.0      NaN      NaN      NaN      NaN   \n",
       "1            NaN         NaN      NaN      NaN      NaN      NaN   \n",
       "2            0.0         0.0      NaN      NaN      NaN      NaN   \n",
       "3            0.0         0.0      NaN      NaN      NaN      NaN   \n",
       "4            0.0         0.0      NaN      NaN      NaN      NaN   \n",
       "...          ...         ...      ...      ...      ...      ...   \n",
       "1007         NaN         NaN      NaN      NaN      NaN      NaN   \n",
       "1008         NaN         NaN      NaN      NaN      NaN      NaN   \n",
       "1009         0.0         0.0      NaN      NaN      NaN      NaN   \n",
       "1010         NaN         NaN      NaN      NaN      NaN      NaN   \n",
       "1011         NaN         NaN      1.0      0.0      0.0      NaN   \n",
       "\n",
       "                                                 SMILES  \\\n",
       "0       O=C(NC(Nc1ccc(F)cc1)(C(F)(F)F)C(F)(F)F)c1cccnc1   \n",
       "1     CCC1CN2CCC1CC2[C@@H](NC(=S)Nc1cc(C(F)(F)F)cc(C...   \n",
       "2           CC(NC(=O)NNC(=O)c1ccncc1)(C(F)(F)F)C(F)(F)F   \n",
       "3               CCC(NC(=O)NCc1ccccc1)(C(F)(F)F)C(F)(F)F   \n",
       "4     OC(c1ccccc1)(c1nc(/C=C/c2ccc(C(F)(F)F)cc2)cs1)...   \n",
       "...                                                 ...   \n",
       "1007  O=C(NCCNC(=O)c1cc(OCC(F)(F)F)ccc1OCC(F)(F)F)Nc...   \n",
       "1008  O=C(NCc1cc(C(F)(F)F)ccc1Cl)c1cccc2c1C(=O)c1ccc...   \n",
       "1009               CCCNc1nc(OCC(F)(F)F)nc(OCC(F)(F)F)n1   \n",
       "1010  O=C(Cn1nnc(-c2cccc(C(F)(F)F)c2)n1)NNS(=O)(=O)c...   \n",
       "1011  O=C(c1cc(C(F)(F)F)cc(C(F)(F)F)c1)N1CCC2(CC1)CN...   \n",
       "\n",
       "                                                    Mol  \n",
       "0     <img data-content=\"rdkit/molecule\" src=\"data:i...  \n",
       "1     <img data-content=\"rdkit/molecule\" src=\"data:i...  \n",
       "2     <img data-content=\"rdkit/molecule\" src=\"data:i...  \n",
       "3     <img data-content=\"rdkit/molecule\" src=\"data:i...  \n",
       "4     <img data-content=\"rdkit/molecule\" src=\"data:i...  \n",
       "...                                                 ...  \n",
       "1007  <img data-content=\"rdkit/molecule\" src=\"data:i...  \n",
       "1008  <img data-content=\"rdkit/molecule\" src=\"data:i...  \n",
       "1009  <img data-content=\"rdkit/molecule\" src=\"data:i...  \n",
       "1010  <img data-content=\"rdkit/molecule\" src=\"data:i...  \n",
       "1011  <img data-content=\"rdkit/molecule\" src=\"data:i...  \n",
       "\n",
       "[1012 rows x 28 columns]"
      ]
     },
     "execution_count": 7,
     "metadata": {},
     "output_type": "execute_result"
    }
   ],
   "source": [
    "df"
   ]
  },
  {
   "cell_type": "markdown",
   "metadata": {},
   "source": [
    "Define a couple of functions to convert a list SMILES to a list of fingerprints."
   ]
  },
  {
   "cell_type": "code",
   "execution_count": 8,
   "metadata": {},
   "outputs": [],
   "source": [
    "def fp_list_from_smiles_list(smiles_list,n_bits=2048):\n",
    "    fp_list = []\n",
    "    for smiles in tqdm(smiles_list):\n",
    "        mol = Chem.MolFromSmiles(smiles)\n",
    "        fp_list.append(fp_as_array(mol,n_bits))\n",
    "    return fp_list\n",
    "\n",
    "def fp_as_array(mol,n_bits=2048):\n",
    "    fp = AllChem.GetMorganFingerprintAsBitVect(mol, 2, nBits=n_bits)\n",
    "    arr = np.zeros((1,), np.int)\n",
    "    DataStructs.ConvertToNumpyArray(fp, arr)\n",
    "    return arr"
   ]
  },
  {
   "cell_type": "markdown",
   "metadata": {},
   "source": [
    "Convert the SMILES from our dataframe to fingerprints."
   ]
  },
  {
   "cell_type": "code",
   "execution_count": 9,
   "metadata": {},
   "outputs": [
    {
     "name": "stderr",
     "output_type": "stream",
     "text": [
      "100%|██████████| 1012/1012 [00:00<00:00, 2483.02it/s]\n"
     ]
    }
   ],
   "source": [
    "fp_list = fp_list_from_smiles_list(df.SMILES)"
   ]
  },
  {
   "cell_type": "markdown",
   "metadata": {},
   "source": [
    "Perform principal component analysis (PCA) on the fingerprints."
   ]
  },
  {
   "cell_type": "code",
   "execution_count": 10,
   "metadata": {},
   "outputs": [
    {
     "name": "stdout",
     "output_type": "stream",
     "text": [
      "00000000000000000000000000000000000000000000000000000000000000000000000000000000000000000000000000000000000000000010000000000000000000000000000000000000100000000000000000000000000000000000000100000000000000000000000000000000000000000000000000000000000000000000000000000000000000000000000000000000000000000000000000000000000000000000000000000000000000000000000000000000000000000010000100000000000000000000000000000000000000000000000000000000000000000000000000000000000000000000000000000010000000000000000000000000000000000000000000000000000000000000010000000000010000000000000000000000001000000000000000000000000000000001000000000000000000000000000000100000000000000000000000000000000000000000000000000000000000000000000000000000000000000000000000000000000000000000000000000000000000000000000000000000000000010100000000000000000000000000000000010000000000000000000000000000000000000000000000000000000000000000000000000000000000000000000100000000000000000000000000000000000000000000000000000000000000000000000000000000000000000000000000000000000000000000000001000000000000000000010000000000000000000000000001000000000000000000000000000000000000000100000010000000000000000000000000000000000000000000000000000000000000000010000000000000000010000000000000000000000010000000000000000000000000000000000000000000000000001000000000000000000000000000000000000000000000000000000000000000000010000000000000000000000000000000000001000000000000000000000000000000000001000000000010000000000000000000000000000000000000000000000000010000000000000000001000000000000000000000000000000000000000000000000000000000000000000000000000000000000000000000000000000000000000000000000000000000010000000000000000010000000000000000000000000000000000000000000000000000000000000000001000000000000000000000000000000000000000000000000000000000000000001000000000000000000000000000000000000000000000000000000001000000000000000000000000000000000000000000010000000000100000000000000000000000000010000000000000000000001000000000000000000000000000000000000000000000000000000000000000000000"
     ]
    }
   ],
   "source": [
    "for i in range(0,2048):\n",
    "    print(fp_list[15][i], end = '')"
   ]
  },
  {
   "cell_type": "code",
   "execution_count": 11,
   "metadata": {},
   "outputs": [],
   "source": [
    "from sklearn.decomposition import PCA\n",
    "pca = PCA(n_components=2)\n",
    "crds = pca.fit_transform(fp_list) "
   ]
  },
  {
   "cell_type": "markdown",
   "metadata": {},
   "source": [
    "Put the coordinates from the PCA into a dataframe."
   ]
  },
  {
   "cell_type": "code",
   "execution_count": 12,
   "metadata": {},
   "outputs": [
    {
     "data": {
      "text/html": [
       "<div>\n",
       "<style scoped>\n",
       "    .dataframe tbody tr th:only-of-type {\n",
       "        vertical-align: middle;\n",
       "    }\n",
       "\n",
       "    .dataframe tbody tr th {\n",
       "        vertical-align: top;\n",
       "    }\n",
       "\n",
       "    .dataframe thead th {\n",
       "        text-align: right;\n",
       "    }\n",
       "</style>\n",
       "<table border=\"1\" class=\"dataframe\">\n",
       "  <thead>\n",
       "    <tr style=\"text-align: right;\">\n",
       "      <th></th>\n",
       "      <th>PC_1</th>\n",
       "      <th>PC_2</th>\n",
       "      <th>PCBA883</th>\n",
       "    </tr>\n",
       "  </thead>\n",
       "  <tbody>\n",
       "    <tr>\n",
       "      <th>0</th>\n",
       "      <td>-1.328838</td>\n",
       "      <td>0.223595</td>\n",
       "      <td>NaN</td>\n",
       "    </tr>\n",
       "    <tr>\n",
       "      <th>1</th>\n",
       "      <td>0.725877</td>\n",
       "      <td>0.668788</td>\n",
       "      <td>NaN</td>\n",
       "    </tr>\n",
       "    <tr>\n",
       "      <th>2</th>\n",
       "      <td>-1.048737</td>\n",
       "      <td>0.321278</td>\n",
       "      <td>NaN</td>\n",
       "    </tr>\n",
       "    <tr>\n",
       "      <th>3</th>\n",
       "      <td>-1.026471</td>\n",
       "      <td>0.217211</td>\n",
       "      <td>NaN</td>\n",
       "    </tr>\n",
       "    <tr>\n",
       "      <th>4</th>\n",
       "      <td>-0.448325</td>\n",
       "      <td>-0.819076</td>\n",
       "      <td>NaN</td>\n",
       "    </tr>\n",
       "  </tbody>\n",
       "</table>\n",
       "</div>"
      ],
      "text/plain": [
       "       PC_1      PC_2  PCBA883\n",
       "0 -1.328838  0.223595      NaN\n",
       "1  0.725877  0.668788      NaN\n",
       "2 -1.048737  0.321278      NaN\n",
       "3 -1.026471  0.217211      NaN\n",
       "4 -0.448325 -0.819076      NaN"
      ]
     },
     "execution_count": 12,
     "metadata": {},
     "output_type": "execute_result"
    }
   ],
   "source": [
    "crds_df = pd.DataFrame(crds,columns=[\"PC_1\",\"PC_2\"])\n",
    "crds_df['PCBA883'] = list(df.PCBA883)\n",
    "crds_df.head()"
   ]
  },
  {
   "cell_type": "code",
   "execution_count": 13,
   "metadata": {},
   "outputs": [
    {
     "data": {
      "text/html": [
       "<div>\n",
       "<style scoped>\n",
       "    .dataframe tbody tr th:only-of-type {\n",
       "        vertical-align: middle;\n",
       "    }\n",
       "\n",
       "    .dataframe tbody tr th {\n",
       "        vertical-align: top;\n",
       "    }\n",
       "\n",
       "    .dataframe thead th {\n",
       "        text-align: right;\n",
       "    }\n",
       "</style>\n",
       "<table border=\"1\" class=\"dataframe\">\n",
       "  <thead>\n",
       "    <tr style=\"text-align: right;\">\n",
       "      <th></th>\n",
       "      <th>PC_1</th>\n",
       "      <th>PC_2</th>\n",
       "      <th>PCBA883</th>\n",
       "    </tr>\n",
       "  </thead>\n",
       "  <tbody>\n",
       "    <tr>\n",
       "      <th>0</th>\n",
       "      <td>-1.328838</td>\n",
       "      <td>0.223595</td>\n",
       "      <td>NaN</td>\n",
       "    </tr>\n",
       "    <tr>\n",
       "      <th>1</th>\n",
       "      <td>0.725877</td>\n",
       "      <td>0.668788</td>\n",
       "      <td>NaN</td>\n",
       "    </tr>\n",
       "    <tr>\n",
       "      <th>2</th>\n",
       "      <td>-1.048737</td>\n",
       "      <td>0.321278</td>\n",
       "      <td>NaN</td>\n",
       "    </tr>\n",
       "    <tr>\n",
       "      <th>3</th>\n",
       "      <td>-1.026471</td>\n",
       "      <td>0.217211</td>\n",
       "      <td>NaN</td>\n",
       "    </tr>\n",
       "    <tr>\n",
       "      <th>4</th>\n",
       "      <td>-0.448325</td>\n",
       "      <td>-0.819076</td>\n",
       "      <td>NaN</td>\n",
       "    </tr>\n",
       "    <tr>\n",
       "      <th>...</th>\n",
       "      <td>...</td>\n",
       "      <td>...</td>\n",
       "      <td>...</td>\n",
       "    </tr>\n",
       "    <tr>\n",
       "      <th>1007</th>\n",
       "      <td>-1.582326</td>\n",
       "      <td>2.718721</td>\n",
       "      <td>NaN</td>\n",
       "    </tr>\n",
       "    <tr>\n",
       "      <th>1008</th>\n",
       "      <td>-0.562850</td>\n",
       "      <td>1.504170</td>\n",
       "      <td>NaN</td>\n",
       "    </tr>\n",
       "    <tr>\n",
       "      <th>1009</th>\n",
       "      <td>-1.350262</td>\n",
       "      <td>-0.479626</td>\n",
       "      <td>NaN</td>\n",
       "    </tr>\n",
       "    <tr>\n",
       "      <th>1010</th>\n",
       "      <td>0.241826</td>\n",
       "      <td>0.553216</td>\n",
       "      <td>NaN</td>\n",
       "    </tr>\n",
       "    <tr>\n",
       "      <th>1011</th>\n",
       "      <td>3.135257</td>\n",
       "      <td>0.018187</td>\n",
       "      <td>1.0</td>\n",
       "    </tr>\n",
       "  </tbody>\n",
       "</table>\n",
       "<p>1012 rows × 3 columns</p>\n",
       "</div>"
      ],
      "text/plain": [
       "          PC_1      PC_2  PCBA883\n",
       "0    -1.328838  0.223595      NaN\n",
       "1     0.725877  0.668788      NaN\n",
       "2    -1.048737  0.321278      NaN\n",
       "3    -1.026471  0.217211      NaN\n",
       "4    -0.448325 -0.819076      NaN\n",
       "...        ...       ...      ...\n",
       "1007 -1.582326  2.718721      NaN\n",
       "1008 -0.562850  1.504170      NaN\n",
       "1009 -1.350262 -0.479626      NaN\n",
       "1010  0.241826  0.553216      NaN\n",
       "1011  3.135257  0.018187      1.0\n",
       "\n",
       "[1012 rows x 3 columns]"
      ]
     },
     "execution_count": 13,
     "metadata": {},
     "output_type": "execute_result"
    }
   ],
   "source": [
    "crds_df"
   ]
  },
  {
   "cell_type": "markdown",
   "metadata": {},
   "source": [
    "Make a plot of the principal components. Note that the points representing the active molecules (red) are obscured by the blue points (decoys)"
   ]
  },
  {
   "cell_type": "code",
   "execution_count": 14,
   "metadata": {},
   "outputs": [
    {
     "data": {
      "image/png": "[encoded data removed]",
      "text/plain": [
       "<Figure size 720x720 with 1 Axes>"
      ]
     },
     "metadata": {},
     "output_type": "display_data"
    }
   ],
   "source": [
    "ax = sns.scatterplot(data=crds_df,x=\"PC_1\",y=\"PC_2\",hue=\"PCBA883\",palette={0:'lightblue',1:'red'})"
   ]
  },
  {
   "cell_type": "markdown",
   "metadata": {},
   "source": [
    "If we make this plot in two steps, and first plot the decoys then plot the actives, the actives will be much easier to see. "
   ]
  },
  {
   "cell_type": "code",
   "execution_count": 15,
   "metadata": {},
   "outputs": [
    {
     "data": {
      "image/png": "[encoded data removed]",
      "text/plain": [
       "<Figure size 720x720 with 1 Axes>"
      ]
     },
     "metadata": {},
     "output_type": "display_data"
    }
   ],
   "source": [
    "ax = sns.scatterplot(data=crds_df.query(\"PCBA883 == 0\"),x=\"PC_1\",y=\"PC_2\",color='lightblue')\n",
    "ax = sns.scatterplot(data=crds_df.query(\"PCBA883 == 1\"),x=\"PC_1\",y=\"PC_2\",color='red')\n",
    "\n",
    "\n",
    "#xs = crds_df[\"PC_1\"]\n",
    "#ys = crds_df[\"PC_2\"]\n",
    "#label = crds_df.index.values\n",
    "\n",
    "#fig, ax = plt.subplots()\n",
    "#ax.scatter(xs, ys)\n",
    "\n",
    "#for i, txt in enumerate(label):\n",
    "#    ax.annotate(txt, (xs[i], ys[i]))\n",
    "#ax = sns.scatterplot(data=crds_df.query(\"is_active == 1\"),x=\"PC_1\",y=\"PC_2\",color='red')\n",
    "\n",
    "    \n",
    "#fig.set_size_inches(12, 12)\n",
    "#for x,y in zip(xs,ys):\n",
    "#\n",
    "#    plt.annotate(label, # this is the text\n",
    "#                 (x,y), # this is the point to label\n",
    "#                 textcoords=\"offset points\", # how to position the text\n",
    "#                 xytext=(0,0), # distance from text to points (x,y)\n",
    "#                 ha='center') # horizontal alignment can be left, right or center\n",
    "\n",
    "#_ = plt.legend(labels=['Decoy', 'Active'])"
   ]
  },
  {
   "cell_type": "markdown",
   "metadata": {},
   "source": [
    "Run the t-sne on the 50 principal component database we created above."
   ]
  },
  {
   "cell_type": "code",
   "execution_count": 16,
   "metadata": {},
   "outputs": [
    {
     "name": "stdout",
     "output_type": "stream",
     "text": [
      "CPU times: user 23.8 s, sys: 29 ms, total: 23.8 s\n",
      "Wall time: 3.18 s\n"
     ]
    }
   ],
   "source": [
    "from sklearn.manifold import TSNE\n",
    "%time crds_embedded = TSNE(n_components=2).fit_transform(crds)"
   ]
  },
  {
   "cell_type": "markdown",
   "metadata": {},
   "source": [
    "Put the t-sne dataset into a dataframe to simplify plotting."
   ]
  },
  {
   "cell_type": "code",
   "execution_count": 17,
   "metadata": {},
   "outputs": [],
   "source": [
    "#tsne_df.to_csv(\"../data/pfas_CF3_tnse_all.csv\",index=False)\n",
    "tsne_df = pd.DataFrame(crds_embedded,columns=[\"X\",\"Y\"])\n",
    "\n",
    "tsne_df['PCBA1030'] = df['PCBA1030']\n",
    "tsne_df['PCBA1461'] = df['PCBA1461']\n",
    "tsne_df['PCBA1468'] = df['PCBA1468']\n",
    "tsne_df['PCBA1688'] = df['PCBA1688']\n",
    "tsne_df['PCBA2546'] = df['PCBA2546']\n",
    "tsne_df['PCBA2551'] = df['PCBA2551']\n",
    "tsne_df['PCBA504332'] = df['PCBA504332']\n",
    "tsne_df['PCBA504339'] = df['PCBA504339']\n",
    "tsne_df['PCBA504444'] = df['PCBA504444']\n",
    "tsne_df['PCBA504467'] = df['PCBA504467']\n",
    "tsne_df['PCBA540276'] = df['PCBA540276']\n",
    "tsne_df['PCBA588855'] = df['PCBA588855']\n",
    "tsne_df['PCBA624288'] = df['PCBA624288']\n",
    "tsne_df['PCBA624296'] = df['PCBA624296']\n",
    "tsne_df['PCBA624417'] = df['PCBA624417']\n",
    "tsne_df['PCBA651635'] = df['PCBA651635']\n",
    "tsne_df['PCBA686970'] = df['PCBA686970']\n",
    "tsne_df['PCBA686978'] = df['PCBA686978']\n",
    "tsne_df['PCBA686979'] = df['PCBA686979']\n",
    "tsne_df['PCBA720504'] = df['PCBA720504']\n",
    "tsne_df['PCBA720579'] = df['PCBA720579']\n",
    "tsne_df['PCBA720580'] = df['PCBA720580']\n",
    "tsne_df['PCBA883'] = df['PCBA883']\n",
    "tsne_df['PCBA884'] = df['PCBA884']\n",
    "tsne_df['PCBA891'] = df['PCBA891']\n",
    "tsne_df['PCBA938'] = df['PCBA938']\n",
    "\n",
    "tsne_df.to_csv(\"../data/pfas_C3F6_tnse_all.csv\",index=False)"
   ]
  },
  {
   "cell_type": "markdown",
   "metadata": {},
   "source": [
    "Look at the first few lines of the dataframe."
   ]
  },
  {
   "cell_type": "code",
   "execution_count": 18,
   "metadata": {
    "scrolled": true
   },
   "outputs": [
    {
     "data": {
      "text/html": [
       "<div>\n",
       "<style scoped>\n",
       "    .dataframe tbody tr th:only-of-type {\n",
       "        vertical-align: middle;\n",
       "    }\n",
       "\n",
       "    .dataframe tbody tr th {\n",
       "        vertical-align: top;\n",
       "    }\n",
       "\n",
       "    .dataframe thead th {\n",
       "        text-align: right;\n",
       "    }\n",
       "</style>\n",
       "<table border=\"1\" class=\"dataframe\">\n",
       "  <thead>\n",
       "    <tr style=\"text-align: right;\">\n",
       "      <th></th>\n",
       "      <th>X</th>\n",
       "      <th>Y</th>\n",
       "      <th>PCBA1030</th>\n",
       "      <th>PCBA1461</th>\n",
       "      <th>PCBA1468</th>\n",
       "      <th>PCBA1688</th>\n",
       "      <th>PCBA2546</th>\n",
       "      <th>PCBA2551</th>\n",
       "      <th>PCBA504332</th>\n",
       "      <th>PCBA504339</th>\n",
       "      <th>...</th>\n",
       "      <th>PCBA686970</th>\n",
       "      <th>PCBA686978</th>\n",
       "      <th>PCBA686979</th>\n",
       "      <th>PCBA720504</th>\n",
       "      <th>PCBA720579</th>\n",
       "      <th>PCBA720580</th>\n",
       "      <th>PCBA883</th>\n",
       "      <th>PCBA884</th>\n",
       "      <th>PCBA891</th>\n",
       "      <th>PCBA938</th>\n",
       "    </tr>\n",
       "  </thead>\n",
       "  <tbody>\n",
       "    <tr>\n",
       "      <th>0</th>\n",
       "      <td>9.570444</td>\n",
       "      <td>-29.385376</td>\n",
       "      <td>0.0</td>\n",
       "      <td>0.0</td>\n",
       "      <td>0.0</td>\n",
       "      <td>0.0</td>\n",
       "      <td>0.0</td>\n",
       "      <td>0.0</td>\n",
       "      <td>0.0</td>\n",
       "      <td>0.0</td>\n",
       "      <td>...</td>\n",
       "      <td>0.0</td>\n",
       "      <td>0.0</td>\n",
       "      <td>0.0</td>\n",
       "      <td>0.0</td>\n",
       "      <td>0.0</td>\n",
       "      <td>0.0</td>\n",
       "      <td>NaN</td>\n",
       "      <td>NaN</td>\n",
       "      <td>NaN</td>\n",
       "      <td>NaN</td>\n",
       "    </tr>\n",
       "    <tr>\n",
       "      <th>1</th>\n",
       "      <td>-24.705353</td>\n",
       "      <td>3.126128</td>\n",
       "      <td>0.0</td>\n",
       "      <td>NaN</td>\n",
       "      <td>NaN</td>\n",
       "      <td>NaN</td>\n",
       "      <td>0.0</td>\n",
       "      <td>0.0</td>\n",
       "      <td>NaN</td>\n",
       "      <td>NaN</td>\n",
       "      <td>...</td>\n",
       "      <td>NaN</td>\n",
       "      <td>NaN</td>\n",
       "      <td>NaN</td>\n",
       "      <td>NaN</td>\n",
       "      <td>NaN</td>\n",
       "      <td>NaN</td>\n",
       "      <td>NaN</td>\n",
       "      <td>NaN</td>\n",
       "      <td>NaN</td>\n",
       "      <td>NaN</td>\n",
       "    </tr>\n",
       "    <tr>\n",
       "      <th>2</th>\n",
       "      <td>4.531211</td>\n",
       "      <td>-22.196024</td>\n",
       "      <td>0.0</td>\n",
       "      <td>0.0</td>\n",
       "      <td>0.0</td>\n",
       "      <td>0.0</td>\n",
       "      <td>0.0</td>\n",
       "      <td>0.0</td>\n",
       "      <td>0.0</td>\n",
       "      <td>0.0</td>\n",
       "      <td>...</td>\n",
       "      <td>0.0</td>\n",
       "      <td>0.0</td>\n",
       "      <td>0.0</td>\n",
       "      <td>0.0</td>\n",
       "      <td>0.0</td>\n",
       "      <td>0.0</td>\n",
       "      <td>NaN</td>\n",
       "      <td>NaN</td>\n",
       "      <td>NaN</td>\n",
       "      <td>NaN</td>\n",
       "    </tr>\n",
       "    <tr>\n",
       "      <th>3</th>\n",
       "      <td>6.276492</td>\n",
       "      <td>-20.873486</td>\n",
       "      <td>0.0</td>\n",
       "      <td>0.0</td>\n",
       "      <td>NaN</td>\n",
       "      <td>0.0</td>\n",
       "      <td>0.0</td>\n",
       "      <td>0.0</td>\n",
       "      <td>0.0</td>\n",
       "      <td>0.0</td>\n",
       "      <td>...</td>\n",
       "      <td>0.0</td>\n",
       "      <td>0.0</td>\n",
       "      <td>0.0</td>\n",
       "      <td>0.0</td>\n",
       "      <td>0.0</td>\n",
       "      <td>0.0</td>\n",
       "      <td>NaN</td>\n",
       "      <td>NaN</td>\n",
       "      <td>NaN</td>\n",
       "      <td>NaN</td>\n",
       "    </tr>\n",
       "    <tr>\n",
       "      <th>4</th>\n",
       "      <td>10.432046</td>\n",
       "      <td>3.069335</td>\n",
       "      <td>NaN</td>\n",
       "      <td>NaN</td>\n",
       "      <td>NaN</td>\n",
       "      <td>NaN</td>\n",
       "      <td>NaN</td>\n",
       "      <td>NaN</td>\n",
       "      <td>NaN</td>\n",
       "      <td>NaN</td>\n",
       "      <td>...</td>\n",
       "      <td>NaN</td>\n",
       "      <td>1.0</td>\n",
       "      <td>NaN</td>\n",
       "      <td>0.0</td>\n",
       "      <td>0.0</td>\n",
       "      <td>0.0</td>\n",
       "      <td>NaN</td>\n",
       "      <td>NaN</td>\n",
       "      <td>NaN</td>\n",
       "      <td>NaN</td>\n",
       "    </tr>\n",
       "  </tbody>\n",
       "</table>\n",
       "<p>5 rows × 28 columns</p>\n",
       "</div>"
      ],
      "text/plain": [
       "           X          Y  PCBA1030  PCBA1461  PCBA1468  PCBA1688  PCBA2546  \\\n",
       "0   9.570444 -29.385376       0.0       0.0       0.0       0.0       0.0   \n",
       "1 -24.705353   3.126128       0.0       NaN       NaN       NaN       0.0   \n",
       "2   4.531211 -22.196024       0.0       0.0       0.0       0.0       0.0   \n",
       "3   6.276492 -20.873486       0.0       0.0       NaN       0.0       0.0   \n",
       "4  10.432046   3.069335       NaN       NaN       NaN       NaN       NaN   \n",
       "\n",
       "   PCBA2551  PCBA504332  PCBA504339  ...  PCBA686970  PCBA686978  PCBA686979  \\\n",
       "0       0.0         0.0         0.0  ...         0.0         0.0         0.0   \n",
       "1       0.0         NaN         NaN  ...         NaN         NaN         NaN   \n",
       "2       0.0         0.0         0.0  ...         0.0         0.0         0.0   \n",
       "3       0.0         0.0         0.0  ...         0.0         0.0         0.0   \n",
       "4       NaN         NaN         NaN  ...         NaN         1.0         NaN   \n",
       "\n",
       "   PCBA720504  PCBA720579  PCBA720580  PCBA883  PCBA884  PCBA891  PCBA938  \n",
       "0         0.0         0.0         0.0      NaN      NaN      NaN      NaN  \n",
       "1         NaN         NaN         NaN      NaN      NaN      NaN      NaN  \n",
       "2         0.0         0.0         0.0      NaN      NaN      NaN      NaN  \n",
       "3         0.0         0.0         0.0      NaN      NaN      NaN      NaN  \n",
       "4         0.0         0.0         0.0      NaN      NaN      NaN      NaN  \n",
       "\n",
       "[5 rows x 28 columns]"
      ]
     },
     "execution_count": 18,
     "metadata": {},
     "output_type": "execute_result"
    }
   ],
   "source": [
    "tsne_df = pd.read_csv(\"../data/pfas_C3F6_tnse_all.csv\")\n",
    "tsne_df.head()"
   ]
  },
  {
   "cell_type": "markdown",
   "metadata": {},
   "source": [
    "Plot the distribution of the active and decoy molecule with t-sne.  Note that, as above, we plot in two steps to avoid obscuring the red points. "
   ]
  },
  {
   "cell_type": "code",
   "execution_count": 19,
   "metadata": {
    "scrolled": true
   },
   "outputs": [
    {
     "data": {
      "image/png": "[encoded data removed]",
      "text/plain": [
       "<Figure size 720x720 with 1 Axes>"
      ]
     },
     "metadata": {},
     "output_type": "display_data"
    }
   ],
   "source": [
    "ax = sns.scatterplot(data=tsne_df.query(\"PCBA883 == 0\"),x=\"X\",y=\"Y\",color='lightblue')\n",
    "ax = sns.scatterplot(data=tsne_df.query(\"PCBA883 == 1\"),x=\"X\",y=\"Y\",color='red')\n",
    "\n",
    "#ax = sns.scatterplot(data=tsne_df.query(\"is_active == 0 & X < -10 & Y < -20\"),x=\"X\",y=\"Y\",color='lightblue')\n",
    "#ax = sns.scatterplot(data=tsne_df.query(\"is_active == 1 & X < -10 & Y < -20\"),x=\"X\",y=\"Y\",color='red')\n",
    "\n",
    "#ax = sns.scatterplot(data=tsne_df.query(\"is_active ==0 & X < -15 & X > -16 & Y > -29 & Y < -25\"),x=\"X\",y=\"Y\",color='lightblue')\n",
    "#ax = sns.scatterplot(data=tsne_df.query(\"is_active == 1 & X < -15 & X > -16 & Y > -29 & Y < -25\"),x=\"X\",y=\"Y\",color='red')\n"
   ]
  },
  {
   "cell_type": "code",
   "execution_count": 22,
   "metadata": {},
   "outputs": [
    {
     "name": "stderr",
     "output_type": "stream",
     "text": [
      "/home/hyuna/anaconda3/envs/my-rdkit-env/lib/python3.6/site-packages/ipykernel_launcher.py:15: MatplotlibDeprecationWarning: Using a string of single character colors as a color sequence is deprecated. Use an explicit list instead.\n",
      "  from ipykernel import kernelapp as app\n"
     ]
    },
    {
     "data": {
      "image/png": "[encoded data removed]",
      "text/plain": [
       "<Figure size 720x720 with 1 Axes>"
      ]
     },
     "metadata": {},
     "output_type": "display_data"
    }
   ],
   "source": [
    "import numpy as np\n",
    "import matplotlib.pyplot as plt\n",
    "from scipy.stats import gaussian_kde\n",
    "\n",
    "# Generate fake data\n",
    "x = tsne_df.query(\"PCBA883 == 1\")[\"X\"]\n",
    "y = tsne_df.query(\"PCBA883 == 1\")[\"Y\"]\n",
    "\n",
    "# Calculate the point density\n",
    "xy = np.vstack([x,y])\n",
    "z = gaussian_kde(xy)(xy)\n",
    "\n",
    "fig, ax = plt.subplots()\n",
    "ax = sns.scatterplot(data=tsne_df.query(\"PCBA883 == 0\"),x=\"X\",y=\"Y\", s=50, color='lightblue')\n",
    "ax.scatter(x, y, c=z, s=50, edgecolor='',cmap=\"YlOrRd\",alpha=0.8)\n",
    "plt.title(\"PCBA-883\")\n",
    "#fig.colorbar(ax)\n",
    "#plt.colorbar()\n",
    "plt.show()"
   ]
  },
  {
   "cell_type": "code",
   "execution_count": 60,
   "metadata": {
    "scrolled": true
   },
   "outputs": [
    {
     "name": "stderr",
     "output_type": "stream",
     "text": [
      "/home/hyuna/anaconda3/envs/my-rdkit-env/lib/python3.6/site-packages/ipykernel_launcher.py:15: MatplotlibDeprecationWarning: Using a string of single character colors as a color sequence is deprecated. Use an explicit list instead.\n",
      "  from ipykernel import kernelapp as app\n"
     ]
    },
    {
     "data": {
      "image/png": "[encoded data removed]",
      "text/plain": [
       "<Figure size 720x720 with 1 Axes>"
      ]
     },
     "metadata": {},
     "output_type": "display_data"
    }
   ],
   "source": [
    "import numpy as np\n",
    "import matplotlib.pyplot as plt\n",
    "from scipy.stats import gaussian_kde\n",
    "\n",
    "# Generate fake data\n",
    "x = tsne_df.query(\"PCBA938 == 1\")[\"X\"]\n",
    "y = tsne_df.query(\"PCBA938 == 1\")[\"Y\"]\n",
    "\n",
    "# Calculate the point density\n",
    "xy = np.vstack([x,y])\n",
    "z = gaussian_kde(xy)(xy)\n",
    "\n",
    "fig, ax = plt.subplots()\n",
    "ax = sns.scatterplot(data=tsne_df.query(\"PCBA938 == 0\"),x=\"X\",y=\"Y\", s=50, color='lightblue')\n",
    "ax.scatter(x, y, c=z, s=50, edgecolor='',cmap=\"YlOrRd\",alpha=0.8)\n",
    "plt.title(\"PCBA-938\")\n",
    "plt.xlim(-40,40)\n",
    "plt.ylim(-50,80)\n",
    "#fig.colorbar(ax)\n",
    "#plt.colorbar()\n",
    "plt.show()"
   ]
  },
  {
   "cell_type": "code",
   "execution_count": 30,
   "metadata": {
    "scrolled": true
   },
   "outputs": [
    {
     "name": "stderr",
     "output_type": "stream",
     "text": [
      "/home/hyuna/anaconda3/envs/my-rdkit-env/lib/python3.6/site-packages/ipykernel_launcher.py:11: MatplotlibDeprecationWarning: Using a string of single character colors as a color sequence is deprecated. Use an explicit list instead.\n",
      "  # This is added back by InteractiveShellApp.init_path()\n"
     ]
    },
    {
     "data": {
      "image/png": "[encoded data removed]",
      "text/plain": [
       "<Figure size 720x720 with 1 Axes>"
      ]
     },
     "metadata": {},
     "output_type": "display_data"
    }
   ],
   "source": [
    "# Generate fake data\n",
    "x = tsne_df.query(\"PCBA1030 == 1\")[\"X\"]\n",
    "y = tsne_df.query(\"PCBA1030 == 1\")[\"Y\"]\n",
    "\n",
    "# Calculate the point density\n",
    "xy = np.vstack([x,y])\n",
    "z = gaussian_kde(xy)(xy)\n",
    "\n",
    "fig, ax = plt.subplots()\n",
    "ax = sns.scatterplot(data=tsne_df.query(\"PCBA1030 == 0\"),x=\"X\",y=\"Y\", s=50, color='lightblue')\n",
    "ax.scatter(x, y, c=z, s=50, edgecolor='',cmap=\"YlOrRd\",alpha=0.8)\n",
    "plt.title(\"PCBA-1030\")\n",
    "#fig.colorbar(ax)\n",
    "#plt.colorbar()\n",
    "plt.show()"
   ]
  },
  {
   "cell_type": "markdown",
   "metadata": {},
   "source": [
    "Create a new dataframe with the data we want to save to disk. "
   ]
  },
  {
   "cell_type": "code",
   "execution_count": 25,
   "metadata": {},
   "outputs": [
    {
     "data": {
      "text/html": [
       "<div>\n",
       "<style scoped>\n",
       "    .dataframe tbody tr th:only-of-type {\n",
       "        vertical-align: middle;\n",
       "    }\n",
       "\n",
       "    .dataframe tbody tr th {\n",
       "        vertical-align: top;\n",
       "    }\n",
       "\n",
       "    .dataframe thead th {\n",
       "        text-align: right;\n",
       "    }\n",
       "</style>\n",
       "<table border=\"1\" class=\"dataframe\">\n",
       "  <thead>\n",
       "    <tr style=\"text-align: right;\">\n",
       "      <th></th>\n",
       "      <th>PC_1</th>\n",
       "      <th>PC_2</th>\n",
       "      <th>X</th>\n",
       "      <th>Y</th>\n",
       "      <th>PCBA883</th>\n",
       "      <th>Mol</th>\n",
       "    </tr>\n",
       "  </thead>\n",
       "  <tbody>\n",
       "  </tbody>\n",
       "</table>\n",
       "</div>"
      ],
      "text/plain": [
       "Empty DataFrame\n",
       "Columns: [PC_1, PC_2, X, Y, PCBA883, Mol]\n",
       "Index: []"
      ]
     },
     "execution_count": 25,
     "metadata": {},
     "output_type": "execute_result"
    }
   ],
   "source": [
    "output_tsne_df = pd.concat([crds_df[[\"PC_1\",\"PC_2\"]],tsne_df[[\"X\",\"Y\"]],df[\"PCBA883\"],df[\"Mol\"]],axis=1)\n",
    "rslt_df = output_tsne_df.loc[(output_tsne_df['X'] < 40) & (output_tsne_df['X'] > 20) & (output_tsne_df['Y'] > -30) & (output_tsne_df['Y'] < 10) & (output_tsne_df['PCBA883']==1)]\n",
    "rslt_df"
   ]
  },
  {
   "cell_type": "code",
   "execution_count": 26,
   "metadata": {
    "scrolled": false
   },
   "outputs": [],
   "source": [
    "#output_tsne_df = pd.concat([df[\"Name\"],crds_df[[\"PC_1\",\"PC_2\"]],tsne_df[[\"X\",\"Y\"]],df[\"is_active\"],df[\"Mol\"]],axis=1)\n",
    "#rslt_df = output_tsne_df[output_tsne_df.index==38066]\n",
    "#rslt_df"
   ]
  },
  {
   "cell_type": "code",
   "execution_count": 27,
   "metadata": {},
   "outputs": [
    {
     "data": {
      "text/plain": [
       "1012"
      ]
     },
     "execution_count": 27,
     "metadata": {},
     "output_type": "execute_result"
    }
   ],
   "source": [
    "len(output_tsne_df)"
   ]
  },
  {
   "cell_type": "code",
   "execution_count": 28,
   "metadata": {},
   "outputs": [
    {
     "name": "stdout",
     "output_type": "stream",
     "text": [
      "FP\n"
     ]
    },
    {
     "ename": "KeyError",
     "evalue": "'is_active'",
     "output_type": "error",
     "traceback": [
      "\u001b[0;31m---------------------------------------------------------------------------\u001b[0m",
      "\u001b[0;31mKeyError\u001b[0m                                  Traceback (most recent call last)",
      "\u001b[0;32m~/anaconda3/envs/my-rdkit-env/lib/python3.6/site-packages/pandas/core/indexes/base.py\u001b[0m in \u001b[0;36mget_loc\u001b[0;34m(self, key, method, tolerance)\u001b[0m\n\u001b[1;32m   2890\u001b[0m             \u001b[0;32mtry\u001b[0m\u001b[0;34m:\u001b[0m\u001b[0;34m\u001b[0m\u001b[0;34m\u001b[0m\u001b[0m\n\u001b[0;32m-> 2891\u001b[0;31m                 \u001b[0;32mreturn\u001b[0m \u001b[0mself\u001b[0m\u001b[0;34m.\u001b[0m\u001b[0m_engine\u001b[0m\u001b[0;34m.\u001b[0m\u001b[0mget_loc\u001b[0m\u001b[0;34m(\u001b[0m\u001b[0mcasted_key\u001b[0m\u001b[0;34m)\u001b[0m\u001b[0;34m\u001b[0m\u001b[0;34m\u001b[0m\u001b[0m\n\u001b[0m\u001b[1;32m   2892\u001b[0m             \u001b[0;32mexcept\u001b[0m \u001b[0mKeyError\u001b[0m \u001b[0;32mas\u001b[0m \u001b[0merr\u001b[0m\u001b[0;34m:\u001b[0m\u001b[0;34m\u001b[0m\u001b[0;34m\u001b[0m\u001b[0m\n",
      "\u001b[0;32mpandas/_libs/index.pyx\u001b[0m in \u001b[0;36mpandas._libs.index.IndexEngine.get_loc\u001b[0;34m()\u001b[0m\n",
      "\u001b[0;32mpandas/_libs/index.pyx\u001b[0m in \u001b[0;36mpandas._libs.index.IndexEngine.get_loc\u001b[0;34m()\u001b[0m\n",
      "\u001b[0;32mpandas/_libs/hashtable_class_helper.pxi\u001b[0m in \u001b[0;36mpandas._libs.hashtable.PyObjectHashTable.get_item\u001b[0;34m()\u001b[0m\n",
      "\u001b[0;32mpandas/_libs/hashtable_class_helper.pxi\u001b[0m in \u001b[0;36mpandas._libs.hashtable.PyObjectHashTable.get_item\u001b[0;34m()\u001b[0m\n",
      "\u001b[0;31mKeyError\u001b[0m: 'is_active'",
      "\nThe above exception was the direct cause of the following exception:\n",
      "\u001b[0;31mKeyError\u001b[0m                                  Traceback (most recent call last)",
      "\u001b[0;32m<ipython-input-28-2d7dbee0aca6>\u001b[0m in \u001b[0;36m<module>\u001b[0;34m\u001b[0m\n\u001b[1;32m      1\u001b[0m \u001b[0mprint\u001b[0m\u001b[0;34m(\u001b[0m\u001b[0;34m\"FP\"\u001b[0m\u001b[0;34m)\u001b[0m\u001b[0;34m\u001b[0m\u001b[0;34m\u001b[0m\u001b[0m\n\u001b[0;32m----> 2\u001b[0;31m \u001b[0mFP\u001b[0m \u001b[0;34m=\u001b[0m \u001b[0mlen\u001b[0m\u001b[0;34m(\u001b[0m\u001b[0mrslt_df\u001b[0m\u001b[0;34m[\u001b[0m\u001b[0;34m(\u001b[0m\u001b[0mrslt_df\u001b[0m\u001b[0;34m[\u001b[0m\u001b[0;34m'is_active'\u001b[0m\u001b[0;34m]\u001b[0m\u001b[0;34m==\u001b[0m\u001b[0;36m0\u001b[0m\u001b[0;34m)\u001b[0m\u001b[0;34m]\u001b[0m\u001b[0;34m)\u001b[0m\u001b[0;34m\u001b[0m\u001b[0;34m\u001b[0m\u001b[0m\n\u001b[0m\u001b[1;32m      3\u001b[0m \u001b[0mprint\u001b[0m\u001b[0;34m(\u001b[0m\u001b[0mFP\u001b[0m\u001b[0;34m)\u001b[0m\u001b[0;34m\u001b[0m\u001b[0;34m\u001b[0m\u001b[0m\n",
      "\u001b[0;32m~/anaconda3/envs/my-rdkit-env/lib/python3.6/site-packages/pandas/core/frame.py\u001b[0m in \u001b[0;36m__getitem__\u001b[0;34m(self, key)\u001b[0m\n\u001b[1;32m   2900\u001b[0m             \u001b[0;32mif\u001b[0m \u001b[0mself\u001b[0m\u001b[0;34m.\u001b[0m\u001b[0mcolumns\u001b[0m\u001b[0;34m.\u001b[0m\u001b[0mnlevels\u001b[0m \u001b[0;34m>\u001b[0m \u001b[0;36m1\u001b[0m\u001b[0;34m:\u001b[0m\u001b[0;34m\u001b[0m\u001b[0;34m\u001b[0m\u001b[0m\n\u001b[1;32m   2901\u001b[0m                 \u001b[0;32mreturn\u001b[0m \u001b[0mself\u001b[0m\u001b[0;34m.\u001b[0m\u001b[0m_getitem_multilevel\u001b[0m\u001b[0;34m(\u001b[0m\u001b[0mkey\u001b[0m\u001b[0;34m)\u001b[0m\u001b[0;34m\u001b[0m\u001b[0;34m\u001b[0m\u001b[0m\n\u001b[0;32m-> 2902\u001b[0;31m             \u001b[0mindexer\u001b[0m \u001b[0;34m=\u001b[0m \u001b[0mself\u001b[0m\u001b[0;34m.\u001b[0m\u001b[0mcolumns\u001b[0m\u001b[0;34m.\u001b[0m\u001b[0mget_loc\u001b[0m\u001b[0;34m(\u001b[0m\u001b[0mkey\u001b[0m\u001b[0;34m)\u001b[0m\u001b[0;34m\u001b[0m\u001b[0;34m\u001b[0m\u001b[0m\n\u001b[0m\u001b[1;32m   2903\u001b[0m             \u001b[0;32mif\u001b[0m \u001b[0mis_integer\u001b[0m\u001b[0;34m(\u001b[0m\u001b[0mindexer\u001b[0m\u001b[0;34m)\u001b[0m\u001b[0;34m:\u001b[0m\u001b[0;34m\u001b[0m\u001b[0;34m\u001b[0m\u001b[0m\n\u001b[1;32m   2904\u001b[0m                 \u001b[0mindexer\u001b[0m \u001b[0;34m=\u001b[0m \u001b[0;34m[\u001b[0m\u001b[0mindexer\u001b[0m\u001b[0;34m]\u001b[0m\u001b[0;34m\u001b[0m\u001b[0;34m\u001b[0m\u001b[0m\n",
      "\u001b[0;32m~/anaconda3/envs/my-rdkit-env/lib/python3.6/site-packages/pandas/core/indexes/base.py\u001b[0m in \u001b[0;36mget_loc\u001b[0;34m(self, key, method, tolerance)\u001b[0m\n\u001b[1;32m   2891\u001b[0m                 \u001b[0;32mreturn\u001b[0m \u001b[0mself\u001b[0m\u001b[0;34m.\u001b[0m\u001b[0m_engine\u001b[0m\u001b[0;34m.\u001b[0m\u001b[0mget_loc\u001b[0m\u001b[0;34m(\u001b[0m\u001b[0mcasted_key\u001b[0m\u001b[0;34m)\u001b[0m\u001b[0;34m\u001b[0m\u001b[0;34m\u001b[0m\u001b[0m\n\u001b[1;32m   2892\u001b[0m             \u001b[0;32mexcept\u001b[0m \u001b[0mKeyError\u001b[0m \u001b[0;32mas\u001b[0m \u001b[0merr\u001b[0m\u001b[0;34m:\u001b[0m\u001b[0;34m\u001b[0m\u001b[0;34m\u001b[0m\u001b[0m\n\u001b[0;32m-> 2893\u001b[0;31m                 \u001b[0;32mraise\u001b[0m \u001b[0mKeyError\u001b[0m\u001b[0;34m(\u001b[0m\u001b[0mkey\u001b[0m\u001b[0;34m)\u001b[0m \u001b[0;32mfrom\u001b[0m \u001b[0merr\u001b[0m\u001b[0;34m\u001b[0m\u001b[0;34m\u001b[0m\u001b[0m\n\u001b[0m\u001b[1;32m   2894\u001b[0m \u001b[0;34m\u001b[0m\u001b[0m\n\u001b[1;32m   2895\u001b[0m         \u001b[0;32mif\u001b[0m \u001b[0mtolerance\u001b[0m \u001b[0;32mis\u001b[0m \u001b[0;32mnot\u001b[0m \u001b[0;32mNone\u001b[0m\u001b[0;34m:\u001b[0m\u001b[0;34m\u001b[0m\u001b[0;34m\u001b[0m\u001b[0m\n",
      "\u001b[0;31mKeyError\u001b[0m: 'is_active'"
     ]
    }
   ],
   "source": [
    "print(\"FP\")\n",
    "FP = len(rslt_df[(rslt_df['is_active']==0)])\n",
    "print(FP)"
   ]
  },
  {
   "cell_type": "code",
   "execution_count": null,
   "metadata": {},
   "outputs": [],
   "source": [
    "print(\"TP\")\n",
    "TP = len(rslt_df[(rslt_df['is_active']==1)])\n",
    "print(TP)"
   ]
  },
  {
   "cell_type": "code",
   "execution_count": null,
   "metadata": {},
   "outputs": [],
   "source": [
    "FN = len(tsne_df[(tsne_df['is_active']==1)]) - TP\n",
    "print(\"FN\")\n",
    "print(FN)"
   ]
  },
  {
   "cell_type": "code",
   "execution_count": null,
   "metadata": {},
   "outputs": [],
   "source": [
    "TN = len(tsne_df[(tsne_df['is_active']==0)]) - FN\n",
    "print(\"TN\")\n",
    "print(TN)"
   ]
  },
  {
   "cell_type": "code",
   "execution_count": null,
   "metadata": {},
   "outputs": [],
   "source": [
    "Sensitivity = TP/(TP+FN)\n",
    "Specificity = (TN)/(TN+FP)\n",
    "Precision = TP/(TP+FP)\n",
    "Accuracy = (TP+TN)/(TP+FP+TN+FN)\n",
    "Adjusted_accuracy = (Sensitivity+Specificity)/2\n",
    "print(\"Sensitivity:      \",Sensitivity)\n",
    "print(\"Specificity:      \",Specificity)\n",
    "print(\"Precision:        \",Precision)\n",
    "print(\"Accuracy:         \",Accuracy)\n",
    "print(\"Adjusted_accuracy:\",Adjusted_accuracy,\"\\n\")"
   ]
  },
  {
   "cell_type": "markdown",
   "metadata": {},
   "source": [
    "Write the dataframe to a csv file.  Note that we set \"index=False\" to avoid writling line numbers to the csv file."
   ]
  },
  {
   "cell_type": "code",
   "execution_count": null,
   "metadata": {},
   "outputs": [],
   "source": [
    "output_tsne_df.to_csv(\"../data/pfas_CF3_1030_tnse.csv\",index=False)"
   ]
  },
  {
   "cell_type": "code",
   "execution_count": null,
   "metadata": {},
   "outputs": [],
   "source": [
    "from bokeh.plotting import figure, show, output_notebook, ColumnDataSource\n",
    "from bokeh.models import HoverTool\n",
    "output_notebook()"
   ]
  },
  {
   "cell_type": "code",
   "execution_count": null,
   "metadata": {},
   "outputs": [],
   "source": [
    "source = ColumnDataSource(data=dict(x=output_tsne_df[\"X\"], y=output_tsne_df[\"Y\"],desc = list(output_tsne_df.index.values)))\n",
    "\n",
    "hover = HoverTool(tooltips=\"\"\"\n",
    "    <div>\n",
    "        <div>@svgs{safe}\n",
    "        </div>\n",
    "        <div>\n",
    "            <span style=\"font-size: 17px; font-weight: bold;\">@desc</span>\n",
    "        </div>\n",
    "    </div>\n",
    "    \"\"\"\n",
    ")\n",
    "p = figure(plot_width=700, plot_height=700, tools=['reset,box_zoom,wheel_zoom,zoom_in,zoom_out,pan',hover],\n",
    "           title=\"Mouse over the dots\")\n",
    "p.circle('x', 'y', size=10, source=source, fill_alpha=0.2,);"
   ]
  },
  {
   "cell_type": "code",
   "execution_count": null,
   "metadata": {},
   "outputs": [],
   "source": [
    "#print(output_tsne_df[\"Mol\"])"
   ]
  },
  {
   "cell_type": "code",
   "execution_count": null,
   "metadata": {},
   "outputs": [],
   "source": [
    "show(p)"
   ]
  },
  {
   "cell_type": "code",
   "execution_count": null,
   "metadata": {},
   "outputs": [],
   "source": [
    "%matplotlib inline\n",
    "import os\n",
    "import numpy as np\n",
    "import pandas as pd\n",
    "import matplotlib.pyplot as plt\n",
    "import mpld3\n",
    "from rdkit import Chem\n",
    "from rdkit.Chem import RDConfig\n",
    "from rdkit.Chem import rdFingerprintGenerator\n",
    "from rdkit.Chem import DataStructs\n",
    "from sklearn.decomposition import PCA\n",
    "from rdkit.Chem.Draw import IPythonConsole\n",
    "from rdkit.Chem import Draw\n",
    "from rdkit.Chem import AllChem\n",
    "from rdkit.Chem.Draw import rdDepictor\n",
    "from rdkit.Chem.Draw import rdMolDraw2D\n",
    "from mpld3 import plugins\n",
    "mpld3.enable_notebook()\n"
   ]
  },
  {
   "cell_type": "code",
   "execution_count": null,
   "metadata": {},
   "outputs": [],
   "source": [
    "def fp2arr(fp):\n",
    "    arr = np.zeros((1,))\n",
    "    DataStructs.ConvertToNumpyArray(fp,arr)\n",
    "    return arr\n",
    "\n",
    "# Original code is described in the rdkit blog post.\n",
    "# http://rdkit.blogspot.com/2015/02/new-drawing-code.html\n",
    "\n",
    "def moltosvg(mol,molSize=(225,75),kekulize=True):\n",
    "    mc = Chem.Mol(mol.ToBinary())\n",
    "    if kekulize:\n",
    "        try:\n",
    "            Chem.Kekulize(mc)\n",
    "        except:\n",
    "            mc = Chem.Mol(mol.ToBinary())\n",
    "    if not mc.GetNumConformers():\n",
    "        rdDepictor.Compute2DCoords(mc)\n",
    "    drawer = rdMolDraw2D.MolDraw2DSVG(molSize[0],molSize[1])\n",
    "    drawer.DrawMolecule(mc)\n",
    "    drawer.FinishDrawing()\n",
    "    svg = drawer.GetDrawingText()\n",
    "    return svg.replace('svg:','')"
   ]
  },
  {
   "cell_type": "code",
   "execution_count": null,
   "metadata": {},
   "outputs": [],
   "source": [
    "fpgen = rdFingerprintGenerator.GetMorganGenerator(2)\n",
    "mols_inactive = output_tsne_df.query(\"is_active == 0\")[\"Mol\"]\n",
    "for m in mols_inactive:\n",
    "    AllChem.Compute2DCoords(m)\n",
    "fps = [fpgen.GetFingerprint(m) for m in mols_inactive]\n",
    "X = np.asarray([fp2arr(fp) for fp in fps])\n",
    "X.shape\n"
   ]
  },
  {
   "cell_type": "code",
   "execution_count": null,
   "metadata": {},
   "outputs": [],
   "source": [
    "pca = PCA(n_components=3)\n",
    "res = pca.fit_transform(X)"
   ]
  },
  {
   "cell_type": "code",
   "execution_count": null,
   "metadata": {},
   "outputs": [],
   "source": [
    "svgs_inactive = [moltosvg(m) for m in mols_inactive]"
   ]
  },
  {
   "cell_type": "code",
   "execution_count": null,
   "metadata": {},
   "outputs": [],
   "source": [
    "fig, ax = plt.subplots()\n",
    "fig.set_size_inches(13, 10)\n",
    "ax.set_xlabel('PCA1')\n",
    "ax.set_ylabel('PCA2')\n",
    "ax.set_title('Viz chemical space!')\n",
    "points_inactive = ax.scatter(output_tsne_df[\"X\"], output_tsne_df[\"Y\"])\n",
    "tooltip_inactive = plugins.PointHTMLTooltip(points_inactive, svgs_inactive)\n",
    "plugins.connect(fig, tooltip_inactive)\n",
    "#ax = sns.scatterplot(data=tsne_df.query(\"is_active == 1\"),x=\"X\",y=\"Y\",color='red')"
   ]
  },
  {
   "cell_type": "code",
   "execution_count": null,
   "metadata": {},
   "outputs": [],
   "source": [
    "fpgen = rdFingerprintGenerator.GetMorganGenerator(2)\n",
    "mols_active = output_tsne_df.query(\"is_active == 1\")[\"Mol\"]\n",
    "for m in mols_active:\n",
    "    AllChem.Compute2DCoords(m)\n",
    "fps = [fpgen.GetFingerprint(m) for m in mols_active]\n",
    "X = np.asarray([fp2arr(fp) for fp in fps])\n",
    "print(X.shape)\n",
    "\n",
    "svgs_active = [moltosvg(m) for m in mols_active]\n",
    "fig_active, ax = plt.subplots()\n",
    "fig_active.set_size_inches(14, 10)\n",
    "ax = sns.scatterplot(data=tsne_df.query(\"is_active == 1\"),x=\"X\",y=\"Y\",color='red')\n",
    "ax.set_xlabel('PCA1')\n",
    "ax.set_ylabel('PCA2')\n",
    "ax.set_title('Viz chemical space!')\n",
    "points_active = ax.scatter(output_tsne_df[\"X\"], output_tsne_df[\"Y\"])\n",
    "tooltip_active = plugins.PointHTMLTooltip(points_active, svgs_active)\n",
    "plugins.connect(fig_active, tooltip_active)\n"
   ]
  },
  {
   "cell_type": "code",
   "execution_count": null,
   "metadata": {},
   "outputs": [],
   "source": []
  },
  {
   "cell_type": "code",
   "execution_count": null,
   "metadata": {},
   "outputs": [],
   "source": []
  },
  {
   "cell_type": "code",
   "execution_count": null,
   "metadata": {},
   "outputs": [],
   "source": []
  },
  {
   "cell_type": "code",
   "execution_count": null,
   "metadata": {},
   "outputs": [],
   "source": []
  }
 ],
 "metadata": {
  "kernelspec": {
   "display_name": "Python 3",
   "language": "python",
   "name": "python3"
  },
  "language_info": {
   "codemirror_mode": {
    "name": "ipython",
    "version": 3
   },
   "file_extension": ".py",
   "mimetype": "text/x-python",
   "name": "python",
   "nbconvert_exporter": "python",
   "pygments_lexer": "ipython3",
   "version": "3.6.12"
  }
 },
 "nbformat": 4,
 "nbformat_minor": 2
}
